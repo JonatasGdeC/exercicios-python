{
  "cells": [
    {
      "cell_type": "markdown",
      "metadata": {
        "id": "view-in-github",
        "colab_type": "text"
      },
      "source": [
        "<a href=\"https://colab.research.google.com/github/JonatasGdeC/exercicios-python/blob/main/Ol%C3%A1%2C_este_%C3%A9_o_Colaboratory.ipynb\" target=\"_parent\"><img src=\"https://colab.research.google.com/assets/colab-badge.svg\" alt=\"Open In Colab\"/></a>"
      ]
    },
    {
      "cell_type": "markdown",
      "source": [
        "**Exercício 1**\n",
        "Faça um algoritmo que leia dois números e escreva (devolva como resultado) o menor deles."
      ],
      "metadata": {
        "id": "YKYG44aKY8Bl"
      }
    },
    {
      "cell_type": "code",
      "source": [
        "num1 = int(input(\"Digite um número: \"))\n",
        "num2 = int(input(\"Digite um segundo número: \"))\n",
        "\n",
        "if (num1 == num2):\n",
        "  print(\"Os números são iguais\")\n",
        "else:\n",
        "  if (num1>num2):\n",
        "    print(\"O número maior é \",num1)\n",
        "  else:\n",
        "    print(\"O número maior é \",num2)\n"
      ],
      "metadata": {
        "id": "-fhc9N4CZJd4",
        "outputId": "87f88b24-8a80-49aa-88db-f9e2e1433472",
        "colab": {
          "base_uri": "https://localhost:8080/"
        }
      },
      "execution_count": 50,
      "outputs": [
        {
          "output_type": "stream",
          "name": "stdout",
          "text": [
            "Digite um número: 10\n",
            "Digite um segundo número: 10\n",
            "Os números são iguais\n"
          ]
        }
      ]
    },
    {
      "cell_type": "markdown",
      "source": [
        "**Exercicio 2**\n",
        "Faça um algoritmo que receba o salário de um funcionário, calcule e mostre o novo salário, sabendo-se que este sofreu um aumento de 15,3%."
      ],
      "metadata": {
        "id": "Fzz04pRYeZIR"
      }
    },
    {
      "cell_type": "code",
      "source": [
        "salarioAtual = int(input(\"Digite o atual salário do funcionário: R$ \"))\n",
        "salarioReajustado = salarioAtual + (salarioAtual*0.153)\n",
        "\n",
        "print(\"O novo salário do funcionário com reajuste de 15,3% será R$\", salarioReajustado)\n",
        "\n"
      ],
      "metadata": {
        "id": "HCtaZD7Lejdj",
        "outputId": "265dad72-f452-49d5-b214-334780d37d5a",
        "colab": {
          "base_uri": "https://localhost:8080/"
        }
      },
      "execution_count": 53,
      "outputs": [
        {
          "output_type": "stream",
          "name": "stdout",
          "text": [
            "Digite o atual salário do funcionário: R$ 2500\n",
            "O novo salário do funcionário com reajuste de 15,3% será R$ 2882.5\n"
          ]
        }
      ]
    },
    {
      "cell_type": "markdown",
      "source": [
        "**Exercicio 3**\n",
        "Sabe-se que o valor de cada 1.000 litros de água corresponde a 2% do salário mínimo. Faça um algoritmo que receba o valor do salário mínimo e a quantidade de água consumida em uma residência por mês. Calcule e mostre:\n",
        "1.   o valor da conta de água.\n",
        "2.   o valor a ser pago com desconto de 15%.\n"
      ],
      "metadata": {
        "id": "PY43jWbrf4pI"
      }
    },
    {
      "cell_type": "code",
      "source": [
        "salarioMinimo = int(input(\"Digite o valor do salário mínimo: R$ \"))\n",
        "consumoAgua = int(input(\"Digite a quantidade de litros consumidos no mês: \"))\n",
        "\n",
        "valorConta = (consumoAgua*(salarioMinimo*0.02))/1000\n",
        "valorContaDesconto = valorConta - (valorConta*0.15)\n",
        "\n",
        "print(\"O valor da conta será de R$ \",valorConta)\n",
        "print(\"Já o valor da conta com desconto de 15% será de R$ \", valorContaDesconto)\n"
      ],
      "metadata": {
        "id": "lA8aIHjMgNys",
        "outputId": "c295ce07-f7db-4bbf-a550-918a863db7c5",
        "colab": {
          "base_uri": "https://localhost:8080/"
        }
      },
      "execution_count": 60,
      "outputs": [
        {
          "output_type": "stream",
          "name": "stdout",
          "text": [
            "Digite o valor do salário mínimo: R$ 1000\n",
            "Digite a quantidade de litros consumidos no mês: 1000\n",
            "O valor da conta será de R$  20.0\n",
            "Já o valor da conta com desconto de 15% será de R$  17.0\n"
          ]
        }
      ]
    },
    {
      "cell_type": "markdown",
      "source": [
        "**Exercício 4**\n",
        "Faça um algoritmo que receba dois valores nas variáveis A e B respectivamente, troque o valor contido na variável A pelo valor em B, e o valor em B pelo valor em A, isto é, ao final do algoritmo, A e B terão os valores trocados."
      ],
      "metadata": {
        "id": "TMVe64EUjZef"
      }
    },
    {
      "cell_type": "code",
      "source": [
        "valorA = int(input(\"Digite um valor para A: \"))\n",
        "valorB = int(input(\"Digite um valor para B: \"))\n",
        "\n",
        "valorX = valorA\n",
        "valorY = valorB\n",
        "\n",
        "valorA = valorY\n",
        "valorB = valorX\n",
        "\n",
        "print(\"O valor de A é: \", valorA)\n",
        "print(\"O valor de B é: \", valorB)"
      ],
      "metadata": {
        "id": "jogWT04WjgdJ",
        "outputId": "0390f478-a79c-48ba-befd-52d59c336f47",
        "colab": {
          "base_uri": "https://localhost:8080/"
        }
      },
      "execution_count": 62,
      "outputs": [
        {
          "output_type": "stream",
          "name": "stdout",
          "text": [
            "Digite um valor para A: 10\n",
            "Digite um valor para B: 1\n",
            "O valor de A é:  1\n",
            "O valor de B é:  10\n"
          ]
        }
      ]
    },
    {
      "cell_type": "markdown",
      "source": [
        "**Exercício 5**\n",
        "Num triângulo retângulo, segundo Pitágoras, o quadrado da hipotenusa (a) é igual à soma dos quadrados dos catetos (b e c), isto é, a² = b² + c². Faça um algoritmo, receba os valores dos catetos e imprima o valor da hipotenusa."
      ],
      "metadata": {
        "id": "N6klDR3Lkm44"
      }
    },
    {
      "cell_type": "code",
      "source": [
        "catetoB = int(input(\"Digite o valor do cateto 1: \"))\n",
        "catetoC = int(input(\"Digite o valor do cateto 2: \"))\n",
        "\n",
        "hipotenusa = ((catetoB*catetoB)+(catetoC*catetoC))**(1/2)\n",
        "\n",
        "print(\"O valor da hipotenusa é: \", hipotenusa)"
      ],
      "metadata": {
        "id": "YuTBBiHmkyqW",
        "outputId": "72aa04d5-0bac-4245-d915-6c28340be1d5",
        "colab": {
          "base_uri": "https://localhost:8080/"
        }
      },
      "execution_count": 65,
      "outputs": [
        {
          "output_type": "stream",
          "name": "stdout",
          "text": [
            "Digite o valor do cateto 1: 3\n",
            "Digite o valor do cateto 2: 4\n",
            "O valor da hipotenusa é:  5.0\n"
          ]
        }
      ]
    }
  ],
  "metadata": {
    "colab": {
      "name": "Olá, este é o Colaboratory",
      "toc_visible": true,
      "provenance": [],
      "include_colab_link": true
    },
    "kernelspec": {
      "display_name": "Python 3",
      "name": "python3"
    }
  },
  "nbformat": 4,
  "nbformat_minor": 0
}